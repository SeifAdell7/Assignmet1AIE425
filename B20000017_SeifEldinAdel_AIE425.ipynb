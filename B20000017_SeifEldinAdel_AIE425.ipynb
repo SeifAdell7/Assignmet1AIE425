{
 "cells": [
  {
   "cell_type": "code",
   "execution_count": 1,
   "id": "831cc0cd",
   "metadata": {},
   "outputs": [],
   "source": [
    "import pandas as pd\n",
    "import numpy as np\n",
    "from sklearn.metrics.pairwise import cosine_similarity\n",
    "from sklearn.metrics import mean_squared_error"
   ]
  },
  {
   "cell_type": "code",
   "execution_count": 2,
   "id": "3da33d23",
   "metadata": {},
   "outputs": [],
   "source": [
    "import pandas as pd\n",
    "\n",
    "# Read the Excel file\n",
    "books = pd.read_excel(\"C:/Users/DELL/Desktop/Book1.xlsx\")\n",
    "\n",
    "# Read the CSV file\n",
    "ratings = pd.read_csv(\"C:/Users/DELL/Desktop/Book2.csv\")"
   ]
  },
  {
   "cell_type": "code",
   "execution_count": 3,
   "id": "27dbfb6a",
   "metadata": {},
   "outputs": [],
   "source": [
    "# Step 2: Preprocessing\n",
    "# Drop unnecessary columns (timestamp) in ratings\n",
    "ratings = ratings.drop(columns=[\"timestamp\"])\n",
    "\n",
    "# Merge ratings with book details\n",
    "data = pd.merge(ratings, books, on=\"movieId\")"
   ]
  },
  {
   "cell_type": "code",
   "execution_count": 4,
   "id": "8991d686",
   "metadata": {},
   "outputs": [],
   "source": [
    "# Step 3: Create a User-Item Matrix\n",
    "user_item_matrix = data.pivot_table(index=\"userId\", columns=\"movieId\", values=\"rating\")\n"
   ]
  },
  {
   "cell_type": "code",
   "execution_count": 5,
   "id": "4d54cb80",
   "metadata": {},
   "outputs": [],
   "source": [
    "# Step 4: Calculate Similarity Matrices\n",
    "\n",
    "# a) Cosine Similarity for User-Based and Item-Based CF\n",
    "\n",
    "# User-based cosine similarity\n",
    "user_similarity_cosine = cosine_similarity(user_item_matrix.fillna(0))\n",
    "user_similarity_cosine = pd.DataFrame(user_similarity_cosine, index=user_item_matrix.index, columns=user_item_matrix.index)\n",
    "\n",
    "# Item-based cosine similarity\n",
    "item_similarity_cosine = cosine_similarity(user_item_matrix.fillna(0).T)\n",
    "item_similarity_cosine = pd.DataFrame(item_similarity_cosine, index=user_item_matrix.columns, columns=user_item_matrix.columns)"
   ]
  },
  {
   "cell_type": "code",
   "execution_count": 6,
   "id": "4edc955b",
   "metadata": {},
   "outputs": [],
   "source": [
    "# b) Pearson Correlation for User-Based and Item-Based CF\n",
    "\n",
    "# User-based Pearson correlation\n",
    "user_similarity_pearson = user_item_matrix.T.corr()\n",
    "\n",
    "# Item-based Pearson correlation\n",
    "item_similarity_pearson = user_item_matrix.corr()"
   ]
  },
  {
   "cell_type": "code",
   "execution_count": 7,
   "id": "0a0423f0",
   "metadata": {},
   "outputs": [],
   "source": [
    "# Step 5: Rating Prediction Function\n",
    "def predict_rating(user_id, movie_id, similarity_matrix, user_item_matrix, type=\"user\"):\n",
    "    if type == \"user\":\n",
    "        # Get similar users and their ratings\n",
    "        similar_users = similarity_matrix[user_id].drop(user_id)\n",
    "        ratings = user_item_matrix.loc[similar_users.index, movie_id]\n",
    "    else:\n",
    "        # Get similar items and their ratings\n",
    "        similar_items = similarity_matrix[movie_id].drop(movie_id)\n",
    "        ratings = user_item_matrix.loc[user_id, similar_items.index]\n",
    "    \n",
    "    # Calculate weighted average\n",
    "    weighted_sum = (similar_items * ratings).sum() if type == \"item\" else (similar_users * ratings).sum()\n",
    "    sum_of_weights = similar_items.sum() if type == \"item\" else similar_users.sum()\n",
    "    \n",
    "    if sum_of_weights == 0 or weighted_sum == 0:\n",
    "        # Handle NaN by returning the mean rating for that item/user or a default value\n",
    "        return user_item_matrix[movie_id].mean() if type == \"item\" else user_item_matrix.loc[user_id].mean()\n",
    "\n",
    "    return weighted_sum / sum_of_weights\n"
   ]
  },
  {
   "cell_type": "code",
   "execution_count": 8,
   "id": "46f01bff",
   "metadata": {},
   "outputs": [],
   "source": [
    "# Step 6: Top-N Recommendation\n",
    "\n",
    "def get_top_n_recommendations(user_id, user_item_matrix, similarity_matrix, n=5, type=\"user\"):\n",
    "    # Predict ratings for all items not yet rated by the user\n",
    "    unrated_movies = user_item_matrix.loc[user_id].isna()\n",
    "    predictions = [predict_rating(user_id, movie, similarity_matrix, user_item_matrix, type) for movie in unrated_movies.index[unrated_movies]]\n",
    "    predictions = pd.Series(predictions, index=unrated_movies.index[unrated_movies])\n",
    "    \n",
    "    # Return top-N recommendations\n",
    "    return predictions.nlargest(n)"
   ]
  },
  {
   "cell_type": "code",
   "execution_count": 9,
   "id": "3df7a8ca",
   "metadata": {},
   "outputs": [],
   "source": [
    "# Step 7: Evaluation Function\n",
    "\n",
    "def evaluate_recommendations(true_ratings, predicted_ratings):\n",
    "    # Calculate RMSE\n",
    "    rmse = np.sqrt(mean_squared_error(true_ratings, predicted_ratings))\n",
    "    return rmse"
   ]
  },
  {
   "cell_type": "code",
   "execution_count": 10,
   "id": "29dfdc71",
   "metadata": {},
   "outputs": [],
   "source": [
    "# Example Usage\n",
    "# Assuming we have a user_id and movie_id to test\n",
    "user_id = 1  # Replace with an actual userId from your data\n",
    "movie_id = 1  # Replace with an actual movieId from your data"
   ]
  },
  {
   "cell_type": "code",
   "execution_count": 11,
   "id": "acd64ea3",
   "metadata": {},
   "outputs": [
    {
     "name": "stdout",
     "output_type": "stream",
     "text": [
      "Predicted Rating (User-based, Cosine): 2.706082654941994\n",
      "Predicted Rating (Item-based, Cosine): 0.6666945052408226\n"
     ]
    }
   ],
   "source": [
    "# Predict rating for a specific user and item\n",
    "predicted_rating_user_cosine = predict_rating(user_id, movie_id, user_similarity_cosine, user_item_matrix, type=\"user\")\n",
    "predicted_rating_item_cosine = predict_rating(user_id, movie_id, item_similarity_cosine, user_item_matrix, type=\"item\")\n",
    "\n",
    "print(\"Predicted Rating (User-based, Cosine):\", predicted_rating_user_cosine)\n",
    "print(\"Predicted Rating (Item-based, Cosine):\", predicted_rating_item_cosine)\n"
   ]
  },
  {
   "cell_type": "code",
   "execution_count": 12,
   "id": "a59fb189",
   "metadata": {},
   "outputs": [
    {
     "name": "stdout",
     "output_type": "stream",
     "text": [
      "Predicted Rating (User-based, Pearson): 3.6666666666666665\n",
      "Predicted Rating (Item-based, Pearson): 4.0\n"
     ]
    }
   ],
   "source": [
    "# Predict rating for a specific user and item using Pearson correlation\n",
    "predicted_rating_user_pearson = predict_rating(user_id, movie_id, user_similarity_pearson, user_item_matrix, type=\"user\")\n",
    "predicted_rating_item_pearson = predict_rating(user_id, movie_id, item_similarity_pearson, user_item_matrix, type=\"item\")\n",
    "\n",
    "print(\"Predicted Rating (User-based, Pearson):\", predicted_rating_user_pearson)\n",
    "print(\"Predicted Rating (Item-based, Pearson):\", predicted_rating_item_pearson)\n"
   ]
  },
  {
   "cell_type": "code",
   "execution_count": 13,
   "id": "93f11759",
   "metadata": {},
   "outputs": [
    {
     "name": "stdout",
     "output_type": "stream",
     "text": [
      "Top-N Recommendations (User-based, Cosine): movieId\n",
      "3      3.666667\n",
      "70     3.666667\n",
      "142    3.666667\n",
      "166    3.666667\n",
      "169    3.666667\n",
      "dtype: float64\n"
     ]
    }
   ],
   "source": [
    "# Get Top-N recommendations for the user\n",
    "top_n_user_recommendations = get_top_n_recommendations(user_id, user_item_matrix, user_similarity_cosine, n=5, type=\"user\")\n",
    "print(\"Top-N Recommendations (User-based, Cosine):\", top_n_user_recommendations)"
   ]
  },
  {
   "cell_type": "code",
   "execution_count": 14,
   "id": "4449f468",
   "metadata": {},
   "outputs": [
    {
     "name": "stdout",
     "output_type": "stream",
     "text": [
      "Top-N Recommendations (Item-based, Cosine): movieId\n",
      "70     5.0\n",
      "166    5.0\n",
      "180    5.0\n",
      "189    5.0\n",
      "3      4.0\n",
      "dtype: float64\n"
     ]
    }
   ],
   "source": [
    "# Get Top-N recommendations for the user using item-based collaborative filtering\n",
    "top_n_item_recommendations = get_top_n_recommendations(user_id, user_item_matrix, item_similarity_cosine, n=5, type=\"item\")\n",
    "print(\"Top-N Recommendations (Item-based, Cosine):\", top_n_item_recommendations)"
   ]
  },
  {
   "cell_type": "code",
   "execution_count": 15,
   "id": "075c1ac3",
   "metadata": {},
   "outputs": [
    {
     "name": "stdout",
     "output_type": "stream",
     "text": [
      "Top-N Recommendations (User-based, Pearson): movieId\n",
      "1     3.666667\n",
      "3     3.666667\n",
      "6     3.666667\n",
      "10    3.666667\n",
      "11    3.666667\n",
      "dtype: float64\n"
     ]
    }
   ],
   "source": [
    "# Get Top-N recommendations for the user using user-based collaborative filtering with Pearson correlation\n",
    "top_n_user_recommendations_pearson = get_top_n_recommendations(user_id, user_item_matrix, user_similarity_pearson, n=5, type=\"user\")\n",
    "print(\"Top-N Recommendations (User-based, Pearson):\", top_n_user_recommendations_pearson)\n",
    "\n",
    "\n"
   ]
  },
  {
   "cell_type": "code",
   "execution_count": 16,
   "id": "1c07417a",
   "metadata": {},
   "outputs": [
    {
     "name": "stdout",
     "output_type": "stream",
     "text": [
      "Top-N Recommendations (Item-based, Pearson): movieId\n",
      "11     5.0\n",
      "62     5.0\n",
      "70     5.0\n",
      "116    5.0\n",
      "123    5.0\n",
      "dtype: float64\n"
     ]
    }
   ],
   "source": [
    "# Get Top-N recommendations for the user using item-based collaborative filtering with Pearson correlation\n",
    "top_n_item_recommendations_pearson = get_top_n_recommendations(user_id, user_item_matrix, item_similarity_pearson, n=5, type=\"item\")\n",
    "print(\"Top-N Recommendations (Item-based, Pearson):\", top_n_item_recommendations_pearson)"
   ]
  },
  {
   "cell_type": "code",
   "execution_count": null,
   "id": "8e02aad2",
   "metadata": {},
   "outputs": [],
   "source": []
  },
  {
   "cell_type": "code",
   "execution_count": null,
   "id": "714c8572",
   "metadata": {},
   "outputs": [],
   "source": []
  }
 ],
 "metadata": {
  "kernelspec": {
   "display_name": "Python 3 (ipykernel)",
   "language": "python",
   "name": "python3"
  },
  "language_info": {
   "codemirror_mode": {
    "name": "ipython",
    "version": 3
   },
   "file_extension": ".py",
   "mimetype": "text/x-python",
   "name": "python",
   "nbconvert_exporter": "python",
   "pygments_lexer": "ipython3",
   "version": "3.9.13"
  }
 },
 "nbformat": 4,
 "nbformat_minor": 5
}
